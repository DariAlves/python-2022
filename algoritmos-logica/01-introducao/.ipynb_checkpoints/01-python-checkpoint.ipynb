{
 "cells": [
  {
   "cell_type": "code",
   "execution_count": 1,
   "id": "ba7b8c54",
   "metadata": {},
   "outputs": [
    {
     "name": "stdout",
     "output_type": "stream",
     "text": [
      "Olá, mundo!\n"
     ]
    }
   ],
   "source": [
    "print('Olá, mundo!')"
   ]
  },
  {
   "cell_type": "markdown",
   "id": "ddd978f8",
   "metadata": {},
   "source": [
    "Operadores matemáticos"
   ]
  },
  {
   "cell_type": "code",
   "execution_count": 5,
   "id": "262b7e0e",
   "metadata": {},
   "outputs": [
    {
     "name": "stdout",
     "output_type": "stream",
     "text": [
      "Valor a: 10\n",
      "Valor b: 5\n"
     ]
    }
   ],
   "source": [
    "valor_a = 10\n",
    "valor_b = 5\n",
    "\n",
    "print(f'Valor a: {valor_a}')\n",
    "print(f'Valor b: {valor_b}')"
   ]
  },
  {
   "cell_type": "markdown",
   "id": "867b0a62",
   "metadata": {},
   "source": [
    "Adição"
   ]
  },
  {
   "cell_type": "code",
   "execution_count": 7,
   "id": "e80ee1f0",
   "metadata": {},
   "outputs": [
    {
     "name": "stdout",
     "output_type": "stream",
     "text": [
      "15\n"
     ]
    }
   ],
   "source": [
    "print(valor_a + valor_b)"
   ]
  },
  {
   "cell_type": "markdown",
   "id": "af276730",
   "metadata": {},
   "source": [
    "Subtração"
   ]
  },
  {
   "cell_type": "code",
   "execution_count": 10,
   "id": "3c1ca942",
   "metadata": {},
   "outputs": [
    {
     "name": "stdout",
     "output_type": "stream",
     "text": [
      "5\n"
     ]
    }
   ],
   "source": [
    "print(valor_a - valor_b)"
   ]
  },
  {
   "cell_type": "markdown",
   "id": "ee5fb9f3",
   "metadata": {},
   "source": [
    "Multiplicação"
   ]
  },
  {
   "cell_type": "code",
   "execution_count": 11,
   "id": "045e9c57",
   "metadata": {},
   "outputs": [
    {
     "name": "stdout",
     "output_type": "stream",
     "text": [
      "50\n"
     ]
    }
   ],
   "source": [
    "print(valor_a * valor_b)"
   ]
  },
  {
   "cell_type": "markdown",
   "id": "3431c409",
   "metadata": {},
   "source": [
    "Divisão"
   ]
  },
  {
   "cell_type": "code",
   "execution_count": 13,
   "id": "cc3265dd",
   "metadata": {},
   "outputs": [
    {
     "name": "stdout",
     "output_type": "stream",
     "text": [
      "2.0\n",
      "<class 'float'>\n"
     ]
    }
   ],
   "source": [
    "print(valor_a / valor_b)\n",
    "print(type(valor_a / valor_b))"
   ]
  },
  {
   "cell_type": "markdown",
   "id": "4cefeca0",
   "metadata": {},
   "source": [
    "Divisão com resultado inteiro"
   ]
  },
  {
   "cell_type": "code",
   "execution_count": 14,
   "id": "c7d96ea0",
   "metadata": {},
   "outputs": [
    {
     "name": "stdout",
     "output_type": "stream",
     "text": [
      "2\n",
      "<class 'int'>\n"
     ]
    }
   ],
   "source": [
    "print(valor_a // valor_b)\n",
    "print(type(valor_a // valor_b))"
   ]
  },
  {
   "cell_type": "markdown",
   "id": "3be68307",
   "metadata": {},
   "source": [
    "Módulo"
   ]
  },
  {
   "cell_type": "code",
   "execution_count": 15,
   "id": "04c3d000",
   "metadata": {},
   "outputs": [
    {
     "name": "stdout",
     "output_type": "stream",
     "text": [
      "0\n"
     ]
    }
   ],
   "source": [
    "print(valor_a % valor_b)"
   ]
  },
  {
   "cell_type": "code",
   "execution_count": null,
   "id": "3848c3c6",
   "metadata": {},
   "outputs": [],
   "source": []
  }
 ],
 "metadata": {
  "kernelspec": {
   "display_name": "Python 3 (ipykernel)",
   "language": "python",
   "name": "python3"
  },
  "language_info": {
   "codemirror_mode": {
    "name": "ipython",
    "version": 3
   },
   "file_extension": ".py",
   "mimetype": "text/x-python",
   "name": "python",
   "nbconvert_exporter": "python",
   "pygments_lexer": "ipython3",
   "version": "3.8.10"
  }
 },
 "nbformat": 4,
 "nbformat_minor": 5
}
